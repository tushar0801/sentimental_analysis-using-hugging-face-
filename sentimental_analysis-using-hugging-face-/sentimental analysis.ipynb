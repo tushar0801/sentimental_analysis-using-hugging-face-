{
 "cells": [
  {
   "cell_type": "code",
   "execution_count": 1,
   "id": "9c706e26",
   "metadata": {},
   "outputs": [],
   "source": [
    "import torch\n"
   ]
  },
  {
   "cell_type": "markdown",
   "id": "5f8baf39",
   "metadata": {},
   "source": [
    "PyTorch is an open-source machine learning library primarily developed by Facebook's artificial-intelligence research group. It is based on the Torch library and provides a flexible and powerful environment for building and deploying deep learning models.\n",
    "\n",
    "One of the main features of PyTorch is its dynamic computation graph, which allows for more flexibility in building and modifying models compared to static computation graphs used in libraries such as TensorFlow. This makes it more suited for research and experimentation, as well as for tasks that require the model to adapt to changing inputs.\n",
    "\n",
    "PyTorch also includes support for CUDA, which is a technology that allows for the acceleration of computations on NVIDIA GPUs. This makes it possible to train and deploy large, complex models much faster than on a CPU.\n",
    "\n",
    "PyTorch provides a wide variety of pre-built and pre-trained models for various tasks like computer vision, natural language processing, and recommendation systems. It also provides tools for data loading, visualization, and model evaluation.\n",
    "\n",
    "Pytorch's main modules are torch and torch.nn, torch provides basic functionality like tensor computation and it's an extension of numpy array. torch.nn provide neural network functionalities. With the torch.optim, we can define optimizer like SGD, Adam and so on, while with torch.nn.functional it provides a large set of neural network functions like loss functions, activation functions and so on.\n",
    "\n",
    "\n",
    "\n"
   ]
  },
  {
   "cell_type": "markdown",
   "id": "598d40e8",
   "metadata": {},
   "source": [
    "A tensor is a multi-dimensional array of data. It is the fundamental data structure in PyTorch and other deep learning frameworks. Tensors can be thought of as generalizations of vectors and matrices to higher dimensions.\n",
    "Tensors are useful for a wide range of tasks, such as image and signal processing, natural language processing, and machine learning. They can be used to represent the data and the parameters of a model, and can also be used as the inputs and outputs of a model.\n",
    "One of the main advantages of using tensors is that they can be used on a GPU, which allows for much faster computations than using a CPU alone. PyTorch's tensors are designed to seamlessly move between the CPU and GPU, which makes it easy to train large models on a GPU without the need for complex device management code.\n",
    "\n",
    "In summary, tensors are multi-dimensional arrays of data and provide a powerful and flexible data structure for building and training machine learning models using deep learning frameworks like Pytorch, they can be processed by the GPU which allows fast computations, making them suitable for deep learning tasks.\n"
   ]
  },
  {
   "cell_type": "code",
   "execution_count": 2,
   "id": "2b6f9ac9",
   "metadata": {},
   "outputs": [],
   "source": [
    "import warnings\n",
    "warnings.filterwarnings('ignore')"
   ]
  },
  {
   "cell_type": "markdown",
   "id": "d53a6340",
   "metadata": {},
   "source": [
    "# Install and import dependencies"
   ]
  },
  {
   "cell_type": "code",
   "execution_count": 3,
   "id": "ea294734",
   "metadata": {},
   "outputs": [
    {
     "name": "stdout",
     "output_type": "stream",
     "text": [
      "Looking in links: https://download.pytorch.org/whl/torch_stable.html\n",
      "Requirement already satisfied: torch==1.12.1 in c:\\users\\bhanu pratap singh\\appdata\\local\\programs\\python\\python310\\lib\\site-packages (1.12.1)\n",
      "Requirement already satisfied: torchvision==0.13.1 in c:\\users\\bhanu pratap singh\\appdata\\local\\programs\\python\\python310\\lib\\site-packages (0.13.1)\n"
     ]
    },
    {
     "name": "stderr",
     "output_type": "stream",
     "text": [
      "ERROR: Could not find a version that satisfies the requirement torchaudio===0.8.1 (from versions: 0.11.0, 0.11.0+cpu, 0.11.0+cu113, 0.11.0+cu115, 0.12.0, 0.12.0+cpu, 0.12.0+cu113, 0.12.0+cu116, 0.12.1, 0.12.1+cpu, 0.12.1+cu113, 0.12.1+cu116, 0.13.0, 0.13.0+cpu, 0.13.0+cu116, 0.13.0+cu117, 0.13.1, 0.13.1+cpu, 0.13.1+cu116, 0.13.1+cu117)\n",
      "ERROR: No matching distribution found for torchaudio===0.8.1\n"
     ]
    }
   ],
   "source": [
    "!pip install torch==1.12.1 torchvision==0.13.1 torchaudio===0.8.1 -f https://download.pytorch.org/whl/torch_stable.html"
   ]
  },
  {
   "cell_type": "markdown",
   "id": "ad70e195",
   "metadata": {},
   "source": [
    "This command is using pip, which is a package manager for Python, to install three packages: torch, torchvision, and torchaudio. These packages are part of the PyTorch ecosystem, which is a popular machine learning library for Python.\n",
    "\n",
    "The torch package is the main PyTorch library, which provides functions for building and training neural networks. The torchvision package is a library for computer vision tasks that builds on top of torch. It provides datasets and models for image and video tasks such as object detection, semantic segmentation, and image classification. The torchaudio package is a library for audio tasks that also builds on top of torch. It provides datasets and models for speech recognition, sound classification and audio processing\n",
    "\n",
    "The version numbers for each package are specified with the == operator, which tells pip to install a specific version of the package. The versions specified in this command are: torch==1.8.1+cu111, torchvision==0.9.1+cu111 and torchaudio===0.8.1.\n",
    "\n",
    "The +cu111 at the end of the version number for torch and torchvision indicate that this version of the packages are built with CUDA support for CUDA version 11.1. CUDA is a parallel computing platform and programming model developed by NVIDIA that allows the use of GPUs for accelerating computations.\n",
    "\n",
    "The -f https://download.pytorch.org/whl/torch_stable.html is flag and the URL is the location of a PyPI index containing the package. This command will tell pip to download and install the packages from this index instead of the default PyPI index.\n",
    "\n",
    "Overall, this command installs specific versions of the torch, torchvision, and torchaudio packages from the PyTorch ecosystem that are built with CUDA support for CUDA version 11.1 from https://download.pytorch.org/whl/torch_stable.html index, which should help with getting specific version and support on the system."
   ]
  },
  {
   "cell_type": "code",
   "execution_count": 4,
   "id": "e3e88d59",
   "metadata": {},
   "outputs": [
    {
     "name": "stdout",
     "output_type": "stream",
     "text": [
      "Requirement already satisfied: transformers in c:\\users\\bhanu pratap singh\\appdata\\local\\programs\\python\\python310\\lib\\site-packages (4.22.1)\n"
     ]
    },
    {
     "name": "stderr",
     "output_type": "stream",
     "text": [
      "ERROR: Could not find a version that satisfies the requirement request (from versions: none)\n",
      "ERROR: No matching distribution found for request\n"
     ]
    }
   ],
   "source": [
    "!pip install transformers request beatifulsoup4 pandas numpy"
   ]
  },
  {
   "cell_type": "markdown",
   "id": "5401bc27",
   "metadata": {},
   "source": [
    "The command you provided is installing several libraries that are commonly used in natural language processing and machine learning tasks. Here's a brief explanation of each library:\n",
    "\n",
    "transformers: This is a library developed by Hugging Face that provides pre-trained state-of-the-art models for natural language processing tasks such as text classification, question answering, and language translation. These models are based on transformer architecture, which has shown to be highly effective in NLP tasks.\n",
    "\n",
    "requests: This library allows you to send HTTP/1.1 requests extremely easily. It abstracts the complexities of making requests behind a beautiful, simple API so that you can focus on interacting with services.\n",
    "\n",
    "beautifulsoup4: This is a library for pulling data out of HTML and XML files. It creates parse trees from page source code that can be used to extract data from HTML, which is useful for web scraping.\n",
    "\n",
    "pandas: This library provides easy-to-use data structures and data analysis tools for Python. It is particularly useful for working with tabular data, such as data from a CSV file or a SQL database.\n",
    "\n",
    "numpy: This library provides a wide variety of numerical operations for numerical computing in Python. It is a dependency for many other libraries in the scientific Python ecosystem, and is often used for arrays, matrices, and mathematical operations on arrays and matrices.\n",
    "\n",
    "Together, these libraries provide powerful tools for performing NLP and machine learning tasks, such as text preprocessing, feature extraction, and model training and evaluation."
   ]
  },
  {
   "cell_type": "code",
   "execution_count": 5,
   "id": "7cdc5abf",
   "metadata": {},
   "outputs": [],
   "source": [
    "from transformers import AutoTokenizer, AutoModelForSequenceClassification\n",
    "import torch\n",
    "import requests\n",
    "from bs4 import BeautifulSoup\n",
    "import re"
   ]
  },
  {
   "cell_type": "markdown",
   "id": "475237bd",
   "metadata": {},
   "source": [
    "AutoTokenizer and AutoModelForSequenceClassification from transformers: These are classes from the transformers library that provide an easy-to-use API for loading pre-trained transformer models. AutoTokenizer can be used to tokenize input text, which is a necessary step before feeding text into a transformer model. AutoModelForSequenceClassification can be used to load a pre-trained transformer model for sequence classification tasks.\n",
    "\n",
    "torch: This is the PyTorch library, which provides a wide variety of tools for building and training neural networks. It is often used in conjunction with the transformers library, as many of the models in transformers are implemented in PyTorch.\n",
    "\n",
    "requests: This library allows you to send HTTP requests to a server and handle the server's response. It provides a simple and consistent interface for interacting with web services, which makes it useful for web scraping and other types of data collection tasks.\n",
    "\n",
    "BeautifulSoup from bs4: This is a class from the Beautiful Soup library that is used to parse and navigate HTML and XML documents. It is often used in conjunction with the requests library to extract data from web pages.\n",
    "\n",
    "re : python built-in library for working with regular expressions. It provides functions for searching, splitting, and manipulating strings. Regular expressions are a powerful tool for text processing and is often used for pattern matching, string manipulation, and data validation.\n",
    "\n",
    "In summary, the imports in the code you provided bring in several powerful libraries and classes for tokenization, loading pre-trained models for sequence classification, numerical computation with Pytorch, making requests to the web, and parsing and manipulating HTML and xml, and working with regular expressions.\n",
    "\n",
    "\n",
    "\n"
   ]
  },
  {
   "cell_type": "markdown",
   "id": "bcd3931e",
   "metadata": {},
   "source": [
    "# Instantiate Model"
   ]
  },
  {
   "cell_type": "code",
   "execution_count": 6,
   "id": "97c80876",
   "metadata": {},
   "outputs": [
    {
     "data": {
      "application/vnd.jupyter.widget-view+json": {
       "model_id": "9ca4f9d0f07b4394887e3cc24e7a6f5e",
       "version_major": 2,
       "version_minor": 0
      },
      "text/plain": [
       "Downloading:   0%|          | 0.00/39.0 [00:00<?, ?B/s]"
      ]
     },
     "metadata": {},
     "output_type": "display_data"
    },
    {
     "data": {
      "application/vnd.jupyter.widget-view+json": {
       "model_id": "25eef38a02f64fbdb9e2685ae81bc280",
       "version_major": 2,
       "version_minor": 0
      },
      "text/plain": [
       "Downloading:   0%|          | 0.00/953 [00:00<?, ?B/s]"
      ]
     },
     "metadata": {},
     "output_type": "display_data"
    },
    {
     "data": {
      "application/vnd.jupyter.widget-view+json": {
       "model_id": "a407bb5c1b25458b9f1bbca4da9947a7",
       "version_major": 2,
       "version_minor": 0
      },
      "text/plain": [
       "Downloading:   0%|          | 0.00/872k [00:00<?, ?B/s]"
      ]
     },
     "metadata": {},
     "output_type": "display_data"
    },
    {
     "data": {
      "application/vnd.jupyter.widget-view+json": {
       "model_id": "b0e25396730840128d586eda4fe26fc8",
       "version_major": 2,
       "version_minor": 0
      },
      "text/plain": [
       "Downloading:   0%|          | 0.00/112 [00:00<?, ?B/s]"
      ]
     },
     "metadata": {},
     "output_type": "display_data"
    },
    {
     "data": {
      "application/vnd.jupyter.widget-view+json": {
       "model_id": "d06c83380c0a455fba532dc6518f6b05",
       "version_major": 2,
       "version_minor": 0
      },
      "text/plain": [
       "Downloading:   0%|          | 0.00/669M [00:00<?, ?B/s]"
      ]
     },
     "metadata": {},
     "output_type": "display_data"
    }
   ],
   "source": [
    "tokenizer = AutoTokenizer.from_pretrained('nlptown/bert-base-multilingual-uncased-sentiment')\n",
    "\n",
    "model = AutoModelForSequenceClassification.from_pretrained('nlptown/bert-base-multilingual-uncased-sentiment')"
   ]
  },
  {
   "cell_type": "markdown",
   "id": "897d7896",
   "metadata": {},
   "source": [
    "we are using the Hugging Face's Transformers library, which is a library for natural language processing tasks that is built on top of TensorFlow and PyTorch.\n",
    "\n",
    "The first line of code creates an instance of the AutoTokenizer class from the Hugging Face's library. The AutoTokenizer.from_pretrained() function takes a string as an argument, which is the name of a pre-trained model to use. In this case, the model that is being loaded is 'nlptown/bert-base-multilingual-uncased-sentiment', which is a pre-trained BERT model fine-tuned on sentiment analysis datasets and is multi-lingual. The tokenizer is used to tokenize the text, which means to split the text into individual tokens (usually words or subwords).\n",
    "\n",
    "The second line of code creates an instance of the AutoModelForSequenceClassification class, also from the Hugging Face's library. The AutoModelForSequenceClassification.from_pretrained() function also takes a string as an argument, which is the name of a pre-trained model to use. In this case, it is the same model 'nlptown/bert-base-multilingual-uncased-sentiment', which is loaded.\n",
    "\n",
    "This BERT model is fine-tuned for sentiment analysis and it's multilingual, which means it can handle text in multiple languages, so it's a good option for sentiment analysis in different languages, you don't need to train the model from scratch.\n",
    "\n",
    "After loading the model, you can use the model to predict the sentiment of new sentences.\n",
    "It's also important to notice that fine-tuning models can be done on specific labeled dataset also to improve the performance on specific domain, as well as the training data can be preprocessed accordingly.\n",
    "\n",
    "\n",
    "\n"
   ]
  },
  {
   "cell_type": "markdown",
   "id": "ea502b21",
   "metadata": {},
   "source": [
    "# Encode and calculate sentiment"
   ]
  },
  {
   "cell_type": "code",
   "execution_count": 9,
   "id": "aebc0ad8",
   "metadata": {},
   "outputs": [],
   "source": [
    "tokens = tokenizer.encode('It was good but can be improved',return_tensors='pt')\n"
   ]
  },
  {
   "cell_type": "markdown",
   "id": "a1da76bd",
   "metadata": {},
   "source": [
    "This code is using a tokenizer, which is a tool that converts a sequence of text into a sequence of tokens (typically integers). The specific method being called is encode, which takes a string of text ('It was good but can be improved') as input and returns a tensor (a multi-dimensional array) of tokens. The 'return_tensors' argument is set to 'pt' which indicate the returned tensor will be a PyTorch tensor, which is a specific type of tensor that can be used with the PyTorch deep learning framework.\n",
    "\n",
    "\n",
    "\n"
   ]
  },
  {
   "cell_type": "code",
   "execution_count": 10,
   "id": "2c7c7b9e",
   "metadata": {},
   "outputs": [],
   "source": [
    "result = model(tokens)"
   ]
  },
  {
   "cell_type": "markdown",
   "id": "e46db499",
   "metadata": {},
   "source": [
    "This code is using a model, which is likely a pre-trained machine learning model. The specific function being called is the model's __call__ method (also known as the \"forward\" method), which takes as input the tensor of tokens returned by the tokenizer in the previous line.\n",
    "\n",
    "The model applies some mathematical operations on the inputs that were pre-defined during the training stage of the model, and produce output which might be a set of predictions, logits or any other type of output. It depends on the specific architecture and the task that the model was trained for.\n",
    "\n",
    "Additionally, result will be the output of the model, which is the result of applying the model to the input tokens. It could be for example the probabilities for a set of classes or any other values depending on the model architecture and the task."
   ]
  },
  {
   "cell_type": "code",
   "execution_count": 11,
   "id": "34fd665a",
   "metadata": {},
   "outputs": [
    {
     "data": {
      "text/plain": [
       "tensor([[-1.8678, -0.1295,  1.7736,  1.2541, -0.8785]],\n",
       "       grad_fn=<AddmmBackward0>)"
      ]
     },
     "execution_count": 11,
     "metadata": {},
     "output_type": "execute_result"
    }
   ],
   "source": [
    "result.logits"
   ]
  },
  {
   "cell_type": "markdown",
   "id": "8ed9c8ac",
   "metadata": {},
   "source": [
    "result.logits refers to the raw, unnormalized scores or predictions of a model before a final activation function is applied. These values are also known as log-odds or logits, hence the name logits.\n",
    "\n",
    "In some machine learning models, particularly those used for classification tasks, the output of the model is often a set of logits, which are then passed through a final activation function, such as the softmax function, to produce a probability distribution over the classes. The class with the highest probability is then chosen as the final prediction of the model."
   ]
  },
  {
   "cell_type": "code",
   "execution_count": 12,
   "id": "7753b7af",
   "metadata": {},
   "outputs": [
    {
     "data": {
      "text/plain": [
       "3"
      ]
     },
     "execution_count": 12,
     "metadata": {},
     "output_type": "execute_result"
    }
   ],
   "source": [
    "int(torch.argmax(result.logits))+1"
   ]
  },
  {
   "cell_type": "markdown",
   "id": "c493e4af",
   "metadata": {},
   "source": [
    "The torch.argmax() function is used to find the index of the maximum value in a tensor along a specific dimension. In this case, torch.argmax(result.logits) will return the index of the highest logit value.\n",
    "\n",
    "Then int() casting is applied over the argmax output, which will convert the data type of the output to int.\n",
    "\n",
    "Finally, +1 is applied on the argmax output which means that this is returning the class label of the highest logit value +1, so it will represent the class label with an index starting from 1, instead of 0."
   ]
  },
  {
   "cell_type": "markdown",
   "id": "c58c3417",
   "metadata": {},
   "source": [
    "# collects Reviews"
   ]
  },
  {
   "cell_type": "code",
   "execution_count": 16,
   "id": "65f56f4c",
   "metadata": {},
   "outputs": [
    {
     "name": "stdout",
     "output_type": "stream",
     "text": [
      "Requirement already satisfied: autoscraper in c:\\users\\bhanu pratap singh\\appdata\\local\\programs\\python\\python310\\lib\\site-packages (1.1.14)\n",
      "Requirement already satisfied: requests in c:\\users\\bhanu pratap singh\\appdata\\local\\programs\\python\\python310\\lib\\site-packages (from autoscraper) (2.28.1)\n",
      "Requirement already satisfied: lxml in c:\\users\\bhanu pratap singh\\appdata\\local\\programs\\python\\python310\\lib\\site-packages (from autoscraper) (4.9.1)\n",
      "Requirement already satisfied: bs4 in c:\\users\\bhanu pratap singh\\appdata\\local\\programs\\python\\python310\\lib\\site-packages (from autoscraper) (0.0.1)\n",
      "Requirement already satisfied: beautifulsoup4 in c:\\users\\bhanu pratap singh\\appdata\\local\\programs\\python\\python310\\lib\\site-packages (from bs4->autoscraper) (4.11.1)\n",
      "Requirement already satisfied: charset-normalizer<3,>=2 in c:\\users\\bhanu pratap singh\\appdata\\local\\programs\\python\\python310\\lib\\site-packages (from requests->autoscraper) (2.1.1)\n",
      "Requirement already satisfied: urllib3<1.27,>=1.21.1 in c:\\users\\bhanu pratap singh\\appdata\\local\\programs\\python\\python310\\lib\\site-packages (from requests->autoscraper) (1.26.12)\n",
      "Requirement already satisfied: certifi>=2017.4.17 in c:\\users\\bhanu pratap singh\\appdata\\local\\programs\\python\\python310\\lib\\site-packages (from requests->autoscraper) (2022.9.14)\n",
      "Requirement already satisfied: idna<4,>=2.5 in c:\\users\\bhanu pratap singh\\appdata\\local\\programs\\python\\python310\\lib\\site-packages (from requests->autoscraper) (3.4)\n",
      "Requirement already satisfied: soupsieve>1.2 in c:\\users\\bhanu pratap singh\\appdata\\local\\programs\\python\\python310\\lib\\site-packages (from beautifulsoup4->bs4->autoscraper) (2.3.2.post1)\n"
     ]
    }
   ],
   "source": [
    "!pip install autoscraper"
   ]
  },
  {
   "cell_type": "code",
   "execution_count": 17,
   "id": "65841b73",
   "metadata": {},
   "outputs": [],
   "source": [
    "from autoscraper import AutoScraper"
   ]
  },
  {
   "cell_type": "code",
   "execution_count": 44,
   "id": "e6717913",
   "metadata": {},
   "outputs": [],
   "source": [
    "r = requests.get('https://www.yelp.com/biz/social-brew-cafe-pyrmont')\n",
    "soup = BeautifulSoup(r.text, 'html.parser')\n",
    "regex = re.compile('.*comment.*')\n",
    "results = soup.find_all('p', {'class':regex})\n",
    "reviews = [result.text for result in results]"
   ]
  },
  {
   "cell_type": "markdown",
   "id": "53433561",
   "metadata": {},
   "source": [
    "This code is using the requests library to send an HTTP GET request to the specified URL ('https://www.yelp.com/biz/social-brew-cafe-pyrmont'), which is the page of a café on the Yelp website. The request's response is stored in the variable r.\n",
    "\n",
    "Then it is using the BeautifulSoup library to parse the HTML of the page, and creates an object soup, which allows the code to search for specific elements in the HTML using methods such as find_all().\n",
    "\n",
    "Then, it is creating a regular expression regex which contains the string '.*comment.*' and it's used in the next line with find_all() method to find all the HTML <p> elements that have a class attribute containing the string \"comment\". The results of this search are stored in the variable results.\n",
    "\n",
    "Finally it's iterating over the results array, and for each element of the array , it's extracting the text content of the element and storing it in the list reviews.\n",
    "\n",
    "So reviews list will contains all the text content which are the reviews or comments of the Social Brew Cafe in Pyrmont."
   ]
  },
  {
   "cell_type": "code",
   "execution_count": 45,
   "id": "3d30701e",
   "metadata": {},
   "outputs": [
    {
     "data": {
      "text/plain": [
       "['Great food amazing coffee and tea. Short walk from the harbor. Staff was very friendly',\n",
       " \"It was ok. Had coffee with my friends. I'm new in the area, still need to discover new places.\",\n",
       " 'Great staff and food. \\xa0Must try is the pan fried Gnocchi! \\xa0The staff were really friendly and the coffee was good as well',\n",
       " \"Ricotta hot cakes! These were so yummy. I ate them pretty fast and didn't share with anyone because they were that good ;). I ordered a green smoothie to balance it all out. Smoothie was a nice way to end my brekkie at this restaurant. Others with me ordered the salmon Benedict and the smoked salmon flatbread. They were all delicious and all plates were empty. Cheers!\",\n",
       " 'I came to Social brew cafe for brunch while exploring the city and on my way to the aquarium. I sat outside. The service was great and the food was good too!I ordered smoked salmon, truffle fries, black coffee and beer.',\n",
       " \"It was ok. The coffee wasn't the best but it was fine. The relish on the breakfast roll was yum which did make it sing. So perhaps I just got a bad coffee but the food was good on my visit.\",\n",
       " \"We came for brunch twice in our week-long visit to Sydney. Everything on the menu not only sounds delicious, but is really tasty. It really gave us a sour taste of how bad breaky is in America with what's so readily available in Sydney! \\xa0Both days we went were Saturdays and there was a bit of a wait to be seated, the cafe is extremely busy for both dine-in and take-away. Service is fairly quick and servers are all friendly. The location is in Surrey Hills a couple blocks away from the bustling touristy Darling Harbor.The green smoothie is very tasty and refreshing. We tried the smoked salmon salad, the soft shell crab tacos, ricotta hotcakes, and the breaky sandwich. All were delicious, well seasoned, and a solid amount of food for the price. A definite recommend for anyone's trip into Sydney!\",\n",
       " \"Ron & Jo are on the go down under and Wow! \\xa0We've found our breakfast place in Sydney and are coming back before we leave! \\xa0 I yelped you the Social Brew Cafe which was a few blocks from where we are staying so off we went. \\xa0They have seating outside and inside and it was a little chilly and they had a table available inside so we grabbed it. \\xa0The menu has a lot of tantalizing choices and our very nice waitress made some suggestions that we took. \\xa0Jo went with the ricotta pancakes with iced tea and I ordered the smoked salmon with a macchiato. \\xa0Our drinks were served quickly and my wife's crimson iced tea had a nice flavor and macchiato was served dark and rich. \\xa0Jo's pancakes came with a liberal number of fresh strawberries and the ricotta was spread between the first and second pancake with a pistachio butter (lots of ground pistachios) in between the second and third cake. \\xa0These pancakes were well presented and so delicious! \\xa0Jo order a side of bacon which was a crispy generous Canadian bacon that was so also tasty and a good accompaniment. \\xa0My smoked salmon had a mild smoke taste and the micro mesclun lettuce bed was went well with the flat bread and buttermilk dressing. \\xa0Very good! \\xa0We had a great meal and expect to come back in our short stay here. \\xa0Which says a lot! \\xa0I am Bookmarking the Social Brew Cafe! Food & Beverage 4.75 Great tasting food and cut above most breakfast places in presentation and taste! \\xa0I prefer a smokier salmon but I am nitpicking. \\xa0Service 5 Outstanding pleasant waitress was great and responsive.Atmosphere 4.5 Comfortable and cozy. Outdoor eating area as next to a green space which adds to the experience. Price 4.5 Great value for what you get for your dollar!OA 4.75 - I would be a regular here and we plan on coming back for another meal or two while we are here.Returned for a second time and had another awesome experience ordering the Mushroom Bruschetta. A thick slice of sourdough bread that mushrooms and two poached eggs with cream fresh and grated cheese flavored with truffles and pink of beef sausage. \\xa0I had the loaded double, a stack of two slices of bread that sandwich ham and melted cheese between and topped with a free range sunny side up egg. \\xa0They simply have some excellent food that is well prepared and presented. \\xa0Absolutely love going here!\",\n",
       " 'I went here a little while ago- a beautiful morning,a lovely little brew house on a quaint street corner- perfection.I went to this cafe with my step-daughter Lucille.She was always raving about how great it was to her mother, so I thought it would be a nice idea to go here with her for her birthday... boy was I wrong.She announced her hatred for me while I was waiting for my extra large iced frappé. It felt like hours of awkward silence once she said those four words; \"you\\'re a low-life.\"Was it in my mind, or was my drink taking ages to arrive? The hands on the clock didn\\'t budge from the last time I glanced at them- 7:43AM, where the fuck is my drink?\"Why do you always feel you have to be my friend? You\\'re not my dad!\" She fired.I could only sit there, my head facing down towards the floral tablecloth that lay beneath my quivering arms. The bullet lodged in my heart.I don\\'t understand why she hates me so much; is it my jokes? The funny way I walk? The fact that I often scream myself awake in the mornings? I guess I\\'ll never know.The truth is, I don\\'t really care about her that much at all. I\\'m only part of her family because her mother gives such great head. Other than that, she\\'s essentially bat shit on the pavement; waiting for some other poor soul to step on her once I\\'ve divorced her mother. I can\\'t say that to her though... at least not until her mother has let herself go.Where the fuck is my drink?The silence continued until the waiter brought over our coffees. About time!\"That looks nice\" I said to her as she stirred her sugar into the light brown liquid.\"Don\\'t talk to me. You always try to talk to me even though you know you\\'ll get nowhere. Why?\"\"Because I want to get to know you, I\\'m part of your family now.\" I said in reply.\"You\\'re fucking gross and you only want to hang around me because you have no mates.\"\"That isn\\'t true, I have plenty of friends, they just all died in terrible accidents under mildly suspicious circumstances.\" I retorted, happy with my defence.She sniggered, \"why did your last wife leave you anyways?\"\"She wasn\\'t happy with the way I used to curl up in the top-load washing machine and wait there until she unknowingly turned it on while I was in there. In my opinion, it saves time and water. Why have a shower and wash your clothes separately when you can do them simultaneously? I think she was angry because I didn\\'t seperate the whites and the blacks\" I stated, as I took my first sip of delicious Iced Frappé. The cream at the top coating my top lip.She replied, standing up and pushing in her chair, \"You\\'re fucking mental. I\\'m leaving, if you come back home, I\\'m literally killing myself.\" She exited the cafe.With the threat of suicide and the taste of coffee on my tongue, I left... alone.Overall it\\'s a lovely place, highly recommend it for anyone living in the Pyrmont area. Great atmosphere and wonderful staff.Definitely coming back.- 5 stars!!!',\n",
       " \"Great coffee and vibe. That's all \\xa0you need. Crab was outstanding but not good finger food like a taco should be. Really want to try the pork belly sandwich - looked excellent. This became my go to breakfast place in Darling harbor. Had the avocado salmon salad breakfast and it was excellent. Service has been excellent.\",\n",
       " \"Great coffee and vibe. That's all \\xa0you need. Crab was outstanding but not good finger food like a taco should be. Really want to try the pork belly sandwich - looked excellent.\"]"
      ]
     },
     "execution_count": 45,
     "metadata": {},
     "output_type": "execute_result"
    }
   ],
   "source": [
    "reviews"
   ]
  },
  {
   "cell_type": "markdown",
   "id": "4b5e4fb6",
   "metadata": {},
   "source": [
    "# Load Reviews into DataFrame and Score"
   ]
  },
  {
   "cell_type": "code",
   "execution_count": 37,
   "id": "1af233d8",
   "metadata": {},
   "outputs": [],
   "source": [
    "import pandas as pd\n",
    "import numpy as np"
   ]
  },
  {
   "cell_type": "code",
   "execution_count": 46,
   "id": "25722b80",
   "metadata": {},
   "outputs": [],
   "source": [
    "df = pd.DataFrame(np.array(reviews), columns=['review'])"
   ]
  },
  {
   "cell_type": "markdown",
   "id": "e600fad0",
   "metadata": {},
   "source": [
    "This code is using the Pandas library to create a DataFrame, which is a 2-dimensional labeled data structure with columns of potentially different types.\n",
    "\n",
    "First, it's using np.array(reviews) to convert the reviews list into a numpy array, which is a powerful library for working with arrays of data.\n",
    "\n",
    "Then, it's passing that numpy array as the first argument to the pd.DataFrame() function, which creates a DataFrame from that array.\n",
    "\n",
    "It also passing a second argument columns=['review'] to name the single column of the DataFrame 'review'.\n",
    "\n",
    "So the resulting DataFrame df will contain a single column named 'review' and its rows will contain the elements of the reviews list. And this Dataframe will contain the reviews of the Social Brew Cafe in Pyrmont."
   ]
  },
  {
   "cell_type": "code",
   "execution_count": 48,
   "id": "a61c9f0b",
   "metadata": {},
   "outputs": [
    {
     "data": {
      "text/plain": [
       "\"It was ok. The coffee wasn't the best but it was fine. The relish on the breakfast roll was yum which did make it sing. So perhaps I just got a bad coffee but the food was good on my visit.\""
      ]
     },
     "execution_count": 48,
     "metadata": {},
     "output_type": "execute_result"
    }
   ],
   "source": [
    "df['review'].iloc[5]"
   ]
  },
  {
   "cell_type": "code",
   "execution_count": 49,
   "id": "111fcf58",
   "metadata": {},
   "outputs": [],
   "source": [
    "def sentiment_score(review):\n",
    "    tokens = tokenizer.encode(review, return_tensors='pt')\n",
    "    result = model(tokens)\n",
    "    return int(torch.argmax(result.logits))+1"
   ]
  },
  {
   "cell_type": "markdown",
   "id": "163bd93c",
   "metadata": {},
   "source": [
    "This function sentiment_score(review) takes a single argument review, which is a string of text representing a customer review of some product or service.\n",
    "\n",
    "The function performs the following actions:\n",
    "\n",
    "First, it tokenizes the input review by passing it through the tokenizer.encode method, which converts the text of the review into a sequence of tokens. It also passes the return_tensors='pt' argument to this method, which specifies that the returned tensor should be in the PyTorch format.\n",
    "\n",
    "Next, the function applies the model to the tensor of tokens by passing it as an argument to the model's __call__ (or \"forward\") method, which applies the pre-defined mathematical operations on the input tokens.\n",
    "\n",
    "Then, it takes the result result and extracts its logits using result.logits.\n",
    "\n",
    "The function uses the torch.argmax() function to find the index of the maximum value in the logits tensor, which is likely representing the class with the highest predicted probability for the review.\n",
    "\n",
    "It converts the output of the argmax to integer and add 1.\n",
    "\n",
    "Finally, the function returns the int value obtained in step 5 which might be the sentiment score of the input review, this value can be used to map the sentiment to positive, neutral or negative."
   ]
  },
  {
   "cell_type": "code",
   "execution_count": 50,
   "id": "7356e509",
   "metadata": {},
   "outputs": [
    {
     "data": {
      "text/plain": [
       "3"
      ]
     },
     "execution_count": 50,
     "metadata": {},
     "output_type": "execute_result"
    }
   ],
   "source": [
    "sentiment_score(df['review'].iloc[1])"
   ]
  },
  {
   "cell_type": "code",
   "execution_count": 51,
   "id": "f837d81c",
   "metadata": {},
   "outputs": [],
   "source": [
    "df['sentiment'] = df['review'].apply(lambda x: sentiment_score(x[:512]))"
   ]
  },
  {
   "cell_type": "markdown",
   "id": "3b552378",
   "metadata": {},
   "source": [
    "This code is using the Pandas apply() function, which applies a given function to each element of a specific column in a DataFrame. In this case, it's applying the sentiment_score(x[:512]) function to each element of the 'review' column in the DataFrame df.\n",
    "\n",
    "It is also passing an argument lambda x: before the function, which allows the code to define an anonymous function (a function without a name) that is used only once and is thrown away after being used. This anonymous function takes the input x, and applies the sentiment_score() function on x[:512] which means that it applies the sentiment_score function on the first 512 characters of each review. This is useful when the reviews are too long and you only want to use a portion of the review for sentiment analysis.\n",
    "\n",
    "Then it creates a new column 'sentiment' and assigns the output of the lambda function as the values for each rows of the sentiment column.\n",
    "\n",
    "So after the execution of this line of code, the DataFrame df will contain a new column named 'sentiment' which will contain the sentiment scores for the reviews, these scores can be used to classify the reviews as positive, neutral or negative based on the score value."
   ]
  },
  {
   "cell_type": "code",
   "execution_count": 52,
   "id": "8fa3e751",
   "metadata": {},
   "outputs": [
    {
     "data": {
      "text/html": [
       "<div>\n",
       "<style scoped>\n",
       "    .dataframe tbody tr th:only-of-type {\n",
       "        vertical-align: middle;\n",
       "    }\n",
       "\n",
       "    .dataframe tbody tr th {\n",
       "        vertical-align: top;\n",
       "    }\n",
       "\n",
       "    .dataframe thead th {\n",
       "        text-align: right;\n",
       "    }\n",
       "</style>\n",
       "<table border=\"1\" class=\"dataframe\">\n",
       "  <thead>\n",
       "    <tr style=\"text-align: right;\">\n",
       "      <th></th>\n",
       "      <th>review</th>\n",
       "      <th>sentiment</th>\n",
       "    </tr>\n",
       "  </thead>\n",
       "  <tbody>\n",
       "    <tr>\n",
       "      <th>0</th>\n",
       "      <td>Great food amazing coffee and tea. Short walk ...</td>\n",
       "      <td>5</td>\n",
       "    </tr>\n",
       "    <tr>\n",
       "      <th>1</th>\n",
       "      <td>It was ok. Had coffee with my friends. I'm new...</td>\n",
       "      <td>3</td>\n",
       "    </tr>\n",
       "    <tr>\n",
       "      <th>2</th>\n",
       "      <td>Great staff and food.  Must try is the pan fri...</td>\n",
       "      <td>5</td>\n",
       "    </tr>\n",
       "    <tr>\n",
       "      <th>3</th>\n",
       "      <td>Ricotta hot cakes! These were so yummy. I ate ...</td>\n",
       "      <td>5</td>\n",
       "    </tr>\n",
       "    <tr>\n",
       "      <th>4</th>\n",
       "      <td>I came to Social brew cafe for brunch while ex...</td>\n",
       "      <td>5</td>\n",
       "    </tr>\n",
       "    <tr>\n",
       "      <th>5</th>\n",
       "      <td>It was ok. The coffee wasn't the best but it w...</td>\n",
       "      <td>3</td>\n",
       "    </tr>\n",
       "    <tr>\n",
       "      <th>6</th>\n",
       "      <td>We came for brunch twice in our week-long visi...</td>\n",
       "      <td>4</td>\n",
       "    </tr>\n",
       "    <tr>\n",
       "      <th>7</th>\n",
       "      <td>Ron &amp; Jo are on the go down under and Wow!  We...</td>\n",
       "      <td>5</td>\n",
       "    </tr>\n",
       "    <tr>\n",
       "      <th>8</th>\n",
       "      <td>I went here a little while ago- a beautiful mo...</td>\n",
       "      <td>2</td>\n",
       "    </tr>\n",
       "    <tr>\n",
       "      <th>9</th>\n",
       "      <td>Great coffee and vibe. That's all  you need. C...</td>\n",
       "      <td>5</td>\n",
       "    </tr>\n",
       "    <tr>\n",
       "      <th>10</th>\n",
       "      <td>Great coffee and vibe. That's all  you need. C...</td>\n",
       "      <td>4</td>\n",
       "    </tr>\n",
       "  </tbody>\n",
       "</table>\n",
       "</div>"
      ],
      "text/plain": [
       "                                               review  sentiment\n",
       "0   Great food amazing coffee and tea. Short walk ...          5\n",
       "1   It was ok. Had coffee with my friends. I'm new...          3\n",
       "2   Great staff and food.  Must try is the pan fri...          5\n",
       "3   Ricotta hot cakes! These were so yummy. I ate ...          5\n",
       "4   I came to Social brew cafe for brunch while ex...          5\n",
       "5   It was ok. The coffee wasn't the best but it w...          3\n",
       "6   We came for brunch twice in our week-long visi...          4\n",
       "7   Ron & Jo are on the go down under and Wow!  We...          5\n",
       "8   I went here a little while ago- a beautiful mo...          2\n",
       "9   Great coffee and vibe. That's all  you need. C...          5\n",
       "10  Great coffee and vibe. That's all  you need. C...          4"
      ]
     },
     "execution_count": 52,
     "metadata": {},
     "output_type": "execute_result"
    }
   ],
   "source": [
    "df"
   ]
  },
  {
   "cell_type": "code",
   "execution_count": null,
   "id": "ce1bd6ac",
   "metadata": {},
   "outputs": [],
   "source": []
  }
 ],
 "metadata": {
  "kernelspec": {
   "display_name": "Python 3 (ipykernel)",
   "language": "python",
   "name": "python3"
  },
  "language_info": {
   "codemirror_mode": {
    "name": "ipython",
    "version": 3
   },
   "file_extension": ".py",
   "mimetype": "text/x-python",
   "name": "python",
   "nbconvert_exporter": "python",
   "pygments_lexer": "ipython3",
   "version": "3.10.9"
  }
 },
 "nbformat": 4,
 "nbformat_minor": 5
}
